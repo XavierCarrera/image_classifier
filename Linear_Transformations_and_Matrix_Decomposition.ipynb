{
  "nbformat": 4,
  "nbformat_minor": 0,
  "metadata": {
    "colab": {
      "name": "Linear Transformations and Matrix Decomposition.ipynb",
      "provenance": [],
      "authorship_tag": "ABX9TyOSG/d4u9FGmBrg2IyFq16n",
      "include_colab_link": true
    },
    "kernelspec": {
      "name": "python3",
      "display_name": "Python 3"
    }
  },
  "cells": [
    {
      "cell_type": "markdown",
      "metadata": {
        "id": "view-in-github",
        "colab_type": "text"
      },
      "source": [
        "<a href=\"https://colab.research.google.com/github/XavierCarrera/linear_algebra_machine_learning/blob/master/Linear_Transformations_and_Matrix_Decomposition.ipynb\" target=\"_parent\"><img src=\"https://colab.research.google.com/assets/colab-badge.svg\" alt=\"Open In Colab\"/></a>"
      ]
    },
    {
      "cell_type": "code",
      "metadata": {
        "id": "tcJrv1m_tEhR"
      },
      "source": [
        "import numpy as np\n",
        "import matplotlib.pyplot as plt\n",
        "\n",
        "%matplotlib inline"
      ],
      "execution_count": 1,
      "outputs": []
    },
    {
      "cell_type": "markdown",
      "metadata": {
        "id": "ZiHEMOJBllBE"
      },
      "source": [
        "# Linear Transformations"
      ]
    },
    {
      "cell_type": "code",
      "metadata": {
        "id": "WZJy7VWMcHQZ",
        "outputId": "741d6f41-4a17-451f-b8b4-0f377405d269",
        "colab": {
          "base_uri": "https://localhost:8080/",
          "height": 51
        }
      },
      "source": [
        "A = np.array([[-1, 3], [2, -2]])\n",
        "print(A)"
      ],
      "execution_count": 2,
      "outputs": [
        {
          "output_type": "stream",
          "text": [
            "[[-1  3]\n",
            " [ 2 -2]]\n"
          ],
          "name": "stdout"
        }
      ]
    },
    {
      "cell_type": "code",
      "metadata": {
        "id": "sKGD-VwWcP4L",
        "outputId": "c2dacb7d-bace-450d-8819-20421eb9a801",
        "colab": {
          "base_uri": "https://localhost:8080/",
          "height": 51
        }
      },
      "source": [
        "vector = np.array([[2],[1]])\n",
        "print(vector)"
      ],
      "execution_count": 3,
      "outputs": [
        {
          "output_type": "stream",
          "text": [
            "[[2]\n",
            " [1]]\n"
          ],
          "name": "stdout"
        }
      ]
    },
    {
      "cell_type": "code",
      "metadata": {
        "id": "bO38BOJccXmT"
      },
      "source": [
        "def vector_graph(vecs, cols, alpha = 1):\n",
        "\n",
        "  plt. axvline(x = 0, color = \"grey\", zorder = 0)\n",
        "  plt. axhline(y = 0, color = \"grey\", zorder = 0)\n",
        "\n",
        "  for i in range(len(vecs)):\n",
        "    x = np.concatenate([[0,0], vecs[i]])\n",
        "    plt.quiver([x[0]],\n",
        "               [x[1]],\n",
        "               [x[2]],\n",
        "               [x[3]],\n",
        "               angles = \"xy\", scale_units = \"xy\",\n",
        "               scale = 1,\n",
        "               color = cols[i],\n",
        "               alpha = alpha)"
      ],
      "execution_count": 22,
      "outputs": []
    },
    {
      "cell_type": "code",
      "metadata": {
        "id": "21rmJTBJdQto",
        "outputId": "bced8f5d-87e0-4497-9fff-b16b2e1cbdf3",
        "colab": {
          "base_uri": "https://localhost:8080/",
          "height": 68
        }
      },
      "source": [
        "print(vector)\n",
        "print(vector.flatten())"
      ],
      "execution_count": 6,
      "outputs": [
        {
          "output_type": "stream",
          "text": [
            "[[2]\n",
            " [1]]\n",
            "[2 1]\n"
          ],
          "name": "stdout"
        }
      ]
    },
    {
      "cell_type": "code",
      "metadata": {
        "id": "_LE5VLZAdwzZ",
        "outputId": "3d7e4d3c-ec0a-4f1a-9c8a-228d7c5eabbc",
        "colab": {
          "base_uri": "https://localhost:8080/",
          "height": 68
        }
      },
      "source": [
        "print(A)\n",
        "print(A.flatten())"
      ],
      "execution_count": 7,
      "outputs": [
        {
          "output_type": "stream",
          "text": [
            "[[-1  3]\n",
            " [ 2 -2]]\n",
            "[-1  3  2 -2]\n"
          ],
          "name": "stdout"
        }
      ]
    },
    {
      "cell_type": "code",
      "metadata": {
        "id": "rHCKxPa4d4UJ",
        "outputId": "24612e4a-4ba4-4a02-d242-567e69c59c28",
        "colab": {
          "base_uri": "https://localhost:8080/",
          "height": 286
        }
      },
      "source": [
        "vector_graph([vector.flatten()], cols = \"blue\")\n",
        "\n",
        "plt.xlim(-0.5, 3)\n",
        "plt.ylim(-0.5, 2)"
      ],
      "execution_count": 23,
      "outputs": [
        {
          "output_type": "execute_result",
          "data": {
            "text/plain": [
              "(-0.5, 2.0)"
            ]
          },
          "metadata": {
            "tags": []
          },
          "execution_count": 23
        },
        {
          "output_type": "display_data",
          "data": {
            "image/png": "[encoded data removed]",
            "text/plain": [
              "<Figure size 432x288 with 1 Axes>"
            ]
          },
          "metadata": {
            "tags": [],
            "needs_background": "light"
          }
        }
      ]
    },
    {
      "cell_type": "code",
      "metadata": {
        "id": "TIkK_1qeguVS",
        "outputId": "d65f7af6-7050-4710-ce56-e1bb7a7dcf66",
        "colab": {
          "base_uri": "https://localhost:8080/",
          "height": 51
        }
      },
      "source": [
        "transformed_vector = A.dot(vector)\n",
        "print(transformed_vector)"
      ],
      "execution_count": 24,
      "outputs": [
        {
          "output_type": "stream",
          "text": [
            "[[1]\n",
            " [2]]\n"
          ],
          "name": "stdout"
        }
      ]
    },
    {
      "cell_type": "code",
      "metadata": {
        "id": "R__jbBdtg0Dx",
        "outputId": "6e37f0d1-12a8-42a8-8271-1411052f571b",
        "colab": {
          "base_uri": "https://localhost:8080/",
          "height": 286
        }
      },
      "source": [
        "vector_graph([vector.flatten(), transformed_vector.flatten()], \n",
        "       cols = [\"blue\", \"orange\"])\n",
        "\n",
        "plt.xlim(-0.5, 2.5)\n",
        "plt.ylim(-0.5, 2.5)"
      ],
      "execution_count": 39,
      "outputs": [
        {
          "output_type": "execute_result",
          "data": {
            "text/plain": [
              "(-0.5, 2.5)"
            ]
          },
          "metadata": {
            "tags": []
          },
          "execution_count": 39
        },
        {
          "output_type": "display_data",
          "data": {
            "image/png": "[encoded data removed]",
            "text/plain": [
              "<Figure size 432x288 with 1 Axes>"
            ]
          },
          "metadata": {
            "tags": [],
            "needs_background": "light"
          }
        }
      ]
    },
    {
      "cell_type": "markdown",
      "metadata": {
        "id": "9lcA0t1_ltlD"
      },
      "source": [
        "# Autovalues and Autovectors"
      ]
    },
    {
      "cell_type": "code",
      "metadata": {
        "id": "LG8aJ2G6hLfa",
        "outputId": "44d74c90-ffb8-417f-e78a-ac87547452a4",
        "colab": {
          "base_uri": "https://localhost:8080/",
          "height": 34
        }
      },
      "source": [
        "print(np.linalg.det(A))"
      ],
      "execution_count": 40,
      "outputs": [
        {
          "output_type": "stream",
          "text": [
            "-4.0\n"
          ],
          "name": "stdout"
        }
      ]
    },
    {
      "cell_type": "code",
      "metadata": {
        "id": "jqxa_udNjNOX",
        "outputId": "c0c750f8-8e89-4999-cf6f-28e2b2c19c07",
        "colab": {
          "base_uri": "https://localhost:8080/",
          "height": 51
        }
      },
      "source": [
        "print(np.linalg.norm(vector))\n",
        "print(np.linalg.norm(transformed_vector))"
      ],
      "execution_count": 41,
      "outputs": [
        {
          "output_type": "stream",
          "text": [
            "2.23606797749979\n",
            "2.23606797749979\n"
          ],
          "name": "stdout"
        }
      ]
    },
    {
      "cell_type": "code",
      "metadata": {
        "id": "DSvG4x3VjXN_",
        "outputId": "199ae1f7-7f0a-4eba-ed4a-17ca3709541b",
        "colab": {
          "base_uri": "https://localhost:8080/",
          "height": 51
        }
      },
      "source": [
        "X = np.array([[3, 2], [4, 1]])\n",
        "print(X)"
      ],
      "execution_count": 45,
      "outputs": [
        {
          "output_type": "stream",
          "text": [
            "[[3 2]\n",
            " [4 1]]\n"
          ],
          "name": "stdout"
        }
      ]
    },
    {
      "cell_type": "code",
      "metadata": {
        "id": "_uYewNBPj6rd",
        "outputId": "5035664f-2516-4e22-ac50-b62a0cb8ada0",
        "colab": {
          "base_uri": "https://localhost:8080/",
          "height": 51
        }
      },
      "source": [
        "v = np.array([[1], [1]])\n",
        "print(v)"
      ],
      "execution_count": 44,
      "outputs": [
        {
          "output_type": "stream",
          "text": [
            "[[1]\n",
            " [1]]\n"
          ],
          "name": "stdout"
        }
      ]
    },
    {
      "cell_type": "code",
      "metadata": {
        "id": "J6JgWZBHkF0C",
        "outputId": "2cc355b6-f8a5-4373-a7c6-b62fe914e223",
        "colab": {
          "base_uri": "https://localhost:8080/",
          "height": 51
        }
      },
      "source": [
        "u = X.dot(v)\n",
        "print(u)"
      ],
      "execution_count": 46,
      "outputs": [
        {
          "output_type": "stream",
          "text": [
            "[[5]\n",
            " [5]]\n"
          ],
          "name": "stdout"
        }
      ]
    },
    {
      "cell_type": "code",
      "metadata": {
        "id": "J9DUfWBsj-5s",
        "outputId": "3f012e82-837a-4d1b-917c-d0f8b71307ea",
        "colab": {
          "base_uri": "https://localhost:8080/",
          "height": 286
        }
      },
      "source": [
        "vector_graph([u.flatten(), v.flatten()], cols = [\"orange\", \"blue\"])\n",
        "\n",
        "plt.xlim(-1, 6)\n",
        "plt.ylim(-1, 6)"
      ],
      "execution_count": 47,
      "outputs": [
        {
          "output_type": "execute_result",
          "data": {
            "text/plain": [
              "(-1.0, 6.0)"
            ]
          },
          "metadata": {
            "tags": []
          },
          "execution_count": 47
        },
        {
          "output_type": "display_data",
          "data": {
            "image/png": "[encoded data removed]",
            "text/plain": [
              "<Figure size 432x288 with 1 Axes>"
            ]
          },
          "metadata": {
            "tags": [],
            "needs_background": "light"
          }
        }
      ]
    },
    {
      "cell_type": "code",
      "metadata": {
        "id": "ZxQX7eILkWt3",
        "outputId": "742ca451-61cc-4113-f43d-282e912ef3dd",
        "colab": {
          "base_uri": "https://localhost:8080/",
          "height": 51
        }
      },
      "source": [
        "lambda_1 = 5\n",
        "\n",
        "lambda_1 * v"
      ],
      "execution_count": 48,
      "outputs": [
        {
          "output_type": "execute_result",
          "data": {
            "text/plain": [
              "array([[5],\n",
              "       [5]])"
            ]
          },
          "metadata": {
            "tags": []
          },
          "execution_count": 48
        }
      ]
    },
    {
      "cell_type": "code",
      "metadata": {
        "id": "ntU1kJmKkjWJ",
        "outputId": "1df3de8f-427b-497d-9bd7-ec60149544d0",
        "colab": {
          "base_uri": "https://localhost:8080/",
          "height": 51
        }
      },
      "source": [
        "s = np.array([[-1], [2]])\n",
        "print(s)"
      ],
      "execution_count": 52,
      "outputs": [
        {
          "output_type": "stream",
          "text": [
            "[[-1]\n",
            " [ 2]]\n"
          ],
          "name": "stdout"
        }
      ]
    },
    {
      "cell_type": "code",
      "metadata": {
        "id": "dHPEu8mYktmx",
        "outputId": "bce7a8ab-2388-47c8-854b-1299b0bff86e",
        "colab": {
          "base_uri": "https://localhost:8080/",
          "height": 51
        }
      },
      "source": [
        "t = X.dot(s)\n",
        "print(t)"
      ],
      "execution_count": 53,
      "outputs": [
        {
          "output_type": "stream",
          "text": [
            "[[ 1]\n",
            " [-2]]\n"
          ],
          "name": "stdout"
        }
      ]
    },
    {
      "cell_type": "code",
      "metadata": {
        "id": "pH2ecf0Rkzby",
        "outputId": "0d61069e-43cd-4b6f-b437-de48197b731e",
        "colab": {
          "base_uri": "https://localhost:8080/",
          "height": 286
        }
      },
      "source": [
        "vector_graph([t.flatten(), s.flatten()], cols = [\"orange\", \"blue\"])\n",
        "\n",
        "plt.xlim(-3, 3)\n",
        "plt.ylim(-3, 3)"
      ],
      "execution_count": 55,
      "outputs": [
        {
          "output_type": "execute_result",
          "data": {
            "text/plain": [
              "(-3.0, 3.0)"
            ]
          },
          "metadata": {
            "tags": []
          },
          "execution_count": 55
        },
        {
          "output_type": "display_data",
          "data": {
            "image/png": "[encoded data removed]",
            "text/plain": [
              "<Figure size 432x288 with 1 Axes>"
            ]
          },
          "metadata": {
            "tags": [],
            "needs_background": "light"
          }
        }
      ]
    },
    {
      "cell_type": "code",
      "metadata": {
        "id": "hjlG_YTMlM4M",
        "outputId": "096d5ee7-e8c9-488c-b635-5a7150afab65",
        "colab": {
          "base_uri": "https://localhost:8080/",
          "height": 51
        }
      },
      "source": [
        "print(np.linalg.eig(X))"
      ],
      "execution_count": 56,
      "outputs": [
        {
          "output_type": "stream",
          "text": [
            "(array([ 5., -1.]), array([[ 0.70710678, -0.4472136 ],\n",
            "       [ 0.70710678,  0.89442719]]))\n"
          ],
          "name": "stdout"
        }
      ]
    },
    {
      "cell_type": "code",
      "metadata": {
        "id": "fM0vz8gqmSI-",
        "outputId": "e6213328-c5fe-4541-b5b9-f2c9b3753828",
        "colab": {
          "base_uri": "https://localhost:8080/",
          "height": 34
        }
      },
      "source": [
        "autovalues, autovectors = np.linalg.eig(X)\n",
        "print(autovalues)"
      ],
      "execution_count": 57,
      "outputs": [
        {
          "output_type": "stream",
          "text": [
            "[ 5. -1.]\n"
          ],
          "name": "stdout"
        }
      ]
    },
    {
      "cell_type": "code",
      "metadata": {
        "id": "0vpNufCjmbPy",
        "outputId": "3f25f4ed-035a-4f47-8c82-376fbe483e3a",
        "colab": {
          "base_uri": "https://localhost:8080/",
          "height": 34
        }
      },
      "source": [
        "print(autovectors[:, 0])"
      ],
      "execution_count": 58,
      "outputs": [
        {
          "output_type": "stream",
          "text": [
            "[0.70710678 0.70710678]\n"
          ],
          "name": "stdout"
        }
      ]
    },
    {
      "cell_type": "code",
      "metadata": {
        "id": "K7N0OHIRme2L",
        "outputId": "500746f6-754f-49e1-a5c2-dacda7e517c6",
        "colab": {
          "base_uri": "https://localhost:8080/",
          "height": 34
        }
      },
      "source": [
        "print(autovectors[:, 1])"
      ],
      "execution_count": 59,
      "outputs": [
        {
          "output_type": "stream",
          "text": [
            "[-0.4472136   0.89442719]\n"
          ],
          "name": "stdout"
        }
      ]
    },
    {
      "cell_type": "code",
      "metadata": {
        "id": "yNilXqBbmlCD"
      },
      "source": [
        "v = np.array([[-1], [2]])\n",
        "Xv = X.dot(v)\n",
        "\n",
        "v_np = autovectors[:, 1]"
      ],
      "execution_count": 60,
      "outputs": []
    },
    {
      "cell_type": "code",
      "metadata": {
        "id": "PmaG3ZTdm4jk",
        "outputId": "95c2fd6f-d184-4b4c-c509-090899b34e5c",
        "colab": {
          "base_uri": "https://localhost:8080/",
          "height": 286
        }
      },
      "source": [
        "vector_graph([Xv.flatten(), v.flatten(), v_np], cols = [\"green\", \"orange\", \"blue\"])\n",
        "\n",
        "plt.xlim(-2,2)\n",
        "plt.ylim(-3,3)"
      ],
      "execution_count": 66,
      "outputs": [
        {
          "output_type": "execute_result",
          "data": {
            "text/plain": [
              "(-3.0, 3.0)"
            ]
          },
          "metadata": {
            "tags": []
          },
          "execution_count": 66
        },
        {
          "output_type": "display_data",
          "data": {
            "image/png": "[encoded data removed]",
            "text/plain": [
              "<Figure size 432x288 with 1 Axes>"
            ]
          },
          "metadata": {
            "tags": [],
            "needs_background": "light"
          }
        }
      ]
    },
    {
      "cell_type": "markdown",
      "metadata": {
        "id": "kCrXdu_1nsim"
      },
      "source": [
        "# Matrix Decomposition"
      ]
    },
    {
      "cell_type": "code",
      "metadata": {
        "id": "va-oTt_mnLfF",
        "outputId": "06e73f7c-bf80-47fe-f607-3d5d908e775a",
        "colab": {
          "base_uri": "https://localhost:8080/",
          "height": 51
        }
      },
      "source": [
        "A = np.array([[3, 2], [4, 1]])\n",
        "print(A)"
      ],
      "execution_count": 67,
      "outputs": [
        {
          "output_type": "stream",
          "text": [
            "[[3 2]\n",
            " [4 1]]\n"
          ],
          "name": "stdout"
        }
      ]
    },
    {
      "cell_type": "code",
      "metadata": {
        "id": "25W7mHh6oGcg"
      },
      "source": [
        "autovalues, autovectors = np.linalg.eig(A)"
      ],
      "execution_count": 68,
      "outputs": []
    },
    {
      "cell_type": "code",
      "metadata": {
        "id": "8eYu2ehgoLZI",
        "outputId": "7b147b8c-b3ac-46c0-ea6d-83f45c65fb34",
        "colab": {
          "base_uri": "https://localhost:8080/",
          "height": 68
        }
      },
      "source": [
        "print(autovalues)\n",
        "print(autovectors)"
      ],
      "execution_count": 69,
      "outputs": [
        {
          "output_type": "stream",
          "text": [
            "[ 5. -1.]\n",
            "[[ 0.70710678 -0.4472136 ]\n",
            " [ 0.70710678  0.89442719]]\n"
          ],
          "name": "stdout"
        }
      ]
    },
    {
      "cell_type": "code",
      "metadata": {
        "id": "k12Y6iO2oOsC"
      },
      "source": [
        "A_calc = autovectors.dot(np.diag(autovalues)).dot(np.linalg.inv(autovectors))"
      ],
      "execution_count": 70,
      "outputs": []
    },
    {
      "cell_type": "code",
      "metadata": {
        "id": "2XtRBWljohw8",
        "outputId": "9fb60e09-2851-45c5-ae68-5882673435f7",
        "colab": {
          "base_uri": "https://localhost:8080/",
          "height": 51
        }
      },
      "source": [
        "print(A_calc)"
      ],
      "execution_count": 71,
      "outputs": [
        {
          "output_type": "stream",
          "text": [
            "[[3. 2.]\n",
            " [4. 1.]]\n"
          ],
          "name": "stdout"
        }
      ]
    },
    {
      "cell_type": "code",
      "metadata": {
        "id": "s9M3Nor1ojWt",
        "outputId": "259a51dd-1d0b-4f1c-b514-30dcef340251",
        "colab": {
          "base_uri": "https://localhost:8080/",
          "height": 51
        }
      },
      "source": [
        "A = np.array([[3,2], [2,3]])\n",
        "print(A)"
      ],
      "execution_count": 73,
      "outputs": [
        {
          "output_type": "stream",
          "text": [
            "[[3 2]\n",
            " [2 3]]\n"
          ],
          "name": "stdout"
        }
      ]
    },
    {
      "cell_type": "code",
      "metadata": {
        "id": "V7EIGPl3o2wU",
        "outputId": "6be1c3e6-1bc7-4e81-c467-08edf615be0a",
        "colab": {
          "base_uri": "https://localhost:8080/",
          "height": 51
        }
      },
      "source": [
        "print(A == A.T)"
      ],
      "execution_count": 74,
      "outputs": [
        {
          "output_type": "stream",
          "text": [
            "[[ True  True]\n",
            " [ True  True]]\n"
          ],
          "name": "stdout"
        }
      ]
    },
    {
      "cell_type": "code",
      "metadata": {
        "id": "KPGH3KGqo8CW",
        "outputId": "9c52c934-e3e6-4fed-fd0a-a59fa44bd460",
        "colab": {
          "base_uri": "https://localhost:8080/",
          "height": 68
        }
      },
      "source": [
        "autovalues, autovectors = np.linalg.eig(A)\n",
        "print(autovalues)\n",
        "print(autovectors)"
      ],
      "execution_count": 77,
      "outputs": [
        {
          "output_type": "stream",
          "text": [
            "[5. 1.]\n",
            "[[ 0.70710678 -0.70710678]\n",
            " [ 0.70710678  0.70710678]]\n"
          ],
          "name": "stdout"
        }
      ]
    },
    {
      "cell_type": "code",
      "metadata": {
        "id": "oFTZNJAHpDJo",
        "outputId": "aeb995d8-47aa-4bec-e3e3-c2f533767f79",
        "colab": {
          "base_uri": "https://localhost:8080/",
          "height": 51
        }
      },
      "source": [
        "A_calc = autovectors.dot(np.diag(autovalues)).dot(autovectors.T)\n",
        "print(A_calc)"
      ],
      "execution_count": 78,
      "outputs": [
        {
          "output_type": "stream",
          "text": [
            "[[3. 2.]\n",
            " [2. 3.]]\n"
          ],
          "name": "stdout"
        }
      ]
    },
    {
      "cell_type": "code",
      "metadata": {
        "id": "ZZ1UhUewpfol",
        "outputId": "f5519ace-f611-4832-9f1e-3632abb04efb",
        "colab": {
          "base_uri": "https://localhost:8080/",
          "height": 51
        }
      },
      "source": [
        "A = np.array([[1,2,3], [3,4,5]])\n",
        "print(A)"
      ],
      "execution_count": 79,
      "outputs": [
        {
          "output_type": "stream",
          "text": [
            "[[1 2 3]\n",
            " [3 4 5]]\n"
          ],
          "name": "stdout"
        }
      ]
    },
    {
      "cell_type": "code",
      "metadata": {
        "id": "hbRf5j_eqX9t"
      },
      "source": [
        "U, D, V = np.linalg.svd(A)"
      ],
      "execution_count": 80,
      "outputs": []
    },
    {
      "cell_type": "code",
      "metadata": {
        "id": "MpL-zqjqqd__",
        "outputId": "c8b4059d-c8f3-4ea6-997e-c5c6639ebf4d",
        "colab": {
          "base_uri": "https://localhost:8080/",
          "height": 51
        }
      },
      "source": [
        "print(U)"
      ],
      "execution_count": 81,
      "outputs": [
        {
          "output_type": "stream",
          "text": [
            "[[-0.46410668 -0.88577931]\n",
            " [-0.88577931  0.46410668]]\n"
          ],
          "name": "stdout"
        }
      ]
    },
    {
      "cell_type": "code",
      "metadata": {
        "id": "HWWADynvqfFQ",
        "outputId": "b83036ff-0fe2-4044-b3fe-c2ba948eefb9",
        "colab": {
          "base_uri": "https://localhost:8080/",
          "height": 34
        }
      },
      "source": [
        "print(D)"
      ],
      "execution_count": 82,
      "outputs": [
        {
          "output_type": "stream",
          "text": [
            "[7.97638869 0.61418515]\n"
          ],
          "name": "stdout"
        }
      ]
    },
    {
      "cell_type": "code",
      "metadata": {
        "id": "KRwphYwbqgug",
        "outputId": "a1e0eab0-6084-41b7-9fd8-fddbcf8d0544",
        "colab": {
          "base_uri": "https://localhost:8080/",
          "height": 51
        }
      },
      "source": [
        "print(np.diag(D))"
      ],
      "execution_count": 84,
      "outputs": [
        {
          "output_type": "stream",
          "text": [
            "[[7.97638869 0.        ]\n",
            " [0.         0.61418515]]\n"
          ],
          "name": "stdout"
        }
      ]
    },
    {
      "cell_type": "code",
      "metadata": {
        "id": "Kl7w_6j9qizI",
        "outputId": "b18cff16-0abe-41d1-9814-3d860d50e324",
        "colab": {
          "base_uri": "https://localhost:8080/",
          "height": 68
        }
      },
      "source": [
        "print(V)"
      ],
      "execution_count": 85,
      "outputs": [
        {
          "output_type": "stream",
          "text": [
            "[[-0.39133557 -0.5605708  -0.72980603]\n",
            " [ 0.8247362   0.13817999 -0.54837623]\n",
            " [ 0.40824829 -0.81649658  0.40824829]]\n"
          ],
          "name": "stdout"
        }
      ]
    },
    {
      "cell_type": "markdown",
      "metadata": {
        "id": "Ln5-Lk-vrQKb"
      },
      "source": [
        "# Other Transformations"
      ]
    },
    {
      "cell_type": "code",
      "metadata": {
        "id": "1W236zfAqoUC"
      },
      "source": [
        "def matrix_graph(matrix, vecCol = [\"red\", \"blue\"]):\n",
        "\n",
        "  # Unitary Circle\n",
        "  x = np.linspace(-1,1, 100000)\n",
        "  y = np.sqrt(1-(x**2))\n",
        "\n",
        "  # Transformed Unitary Circle\n",
        "  x1 = matrix[0,0]*x + matrix[0,1]*y\n",
        "  y1 = matrix[1,0]*x + matrix[1,1]*y\n",
        "  x1_neg = matrix[0,0]*x - matrix[0,1]*y\n",
        "  y1_neg = matrix[1,0]*x - matrix[1,1]*y \n",
        "\n",
        "  # Vectors\n",
        "  u1 = [matrix[0,0], matrix[1,0]]\n",
        "  v1 = [matrix[0,1], matrix[1,1]]\n",
        "\n",
        "  vector_graph([u1, v1], cols=[vecCol[0], vecCol[1]])\n",
        "\n",
        "  plt.plot(x1, y1, \"green\", alpha = 0.7)\n",
        "  plt.plot(x1_neg, y1_neg, \"green\", alpha = 0.7)"
      ],
      "execution_count": 97,
      "outputs": []
    },
    {
      "cell_type": "code",
      "metadata": {
        "id": "huo0o2Wjs69l",
        "outputId": "d4f1147d-3122-4183-f135-724ce33bdd3d",
        "colab": {
          "base_uri": "https://localhost:8080/",
          "height": 51
        }
      },
      "source": [
        "A = np.array([[3,7], [5, 2]])\n",
        "print(A)"
      ],
      "execution_count": 92,
      "outputs": [
        {
          "output_type": "stream",
          "text": [
            "[[3 7]\n",
            " [5 2]]\n"
          ],
          "name": "stdout"
        }
      ]
    },
    {
      "cell_type": "code",
      "metadata": {
        "id": "DhNhmqubtXu0",
        "outputId": "7e79e9d1-b5b4-496c-ed1f-ee47ce508bcb",
        "colab": {
          "base_uri": "https://localhost:8080/",
          "height": 555
        }
      },
      "source": [
        "print(\"Unitary Circle: \")\n",
        "matrix_graph(np.array([[1, 0], [0, 1]]))\n",
        "\n",
        "plt.xlim(-1.5, 1)\n",
        "plt.ylim(-1.5, 1)\n",
        "plt.show()\n",
        "\n",
        "print(\"Transformed Unitary Circle: \")\n",
        "matrix_graph(A)\n",
        "\n",
        "plt.xlim(-8, 8)\n",
        "plt.ylim(-8, 8)\n",
        "plt.show()"
      ],
      "execution_count": 98,
      "outputs": [
        {
          "output_type": "stream",
          "text": [
            "Unitary Circle: \n"
          ],
          "name": "stdout"
        },
        {
          "output_type": "display_data",
          "data": {
            "image/png": "[encoded data removed]",
            "text/plain": [
              "<Figure size 432x288 with 1 Axes>"
            ]
          },
          "metadata": {
            "tags": [],
            "needs_background": "light"
          }
        },
        {
          "output_type": "stream",
          "text": [
            "Transformed Unitary Circle: \n"
          ],
          "name": "stdout"
        },
        {
          "output_type": "display_data",
          "data": {
            "image/png": "[encoded data removed]",
            "text/plain": [
              "<Figure size 432x288 with 1 Axes>"
            ]
          },
          "metadata": {
            "tags": [],
            "needs_background": "light"
          }
        }
      ]
    },
    {
      "cell_type": "code",
      "metadata": {
        "id": "f7k6lE4GuMe_",
        "outputId": "d4fff9e8-5afc-477f-b956-fa30a3079896",
        "colab": {
          "base_uri": "https://localhost:8080/",
          "height": 51
        }
      },
      "source": [
        "U, D, V = np.linalg.svd(A)\n",
        "print(U)"
      ],
      "execution_count": 100,
      "outputs": [
        {
          "output_type": "stream",
          "text": [
            "[[-0.85065081 -0.52573111]\n",
            " [-0.52573111  0.85065081]]\n"
          ],
          "name": "stdout"
        }
      ]
    },
    {
      "cell_type": "code",
      "metadata": {
        "id": "UEIX6YWZu3We",
        "outputId": "e77c64a3-50e8-42d5-ea14-4399bc8a9345",
        "colab": {
          "base_uri": "https://localhost:8080/",
          "height": 1000
        }
      },
      "source": [
        "print(\"Unitary Circle: \")\n",
        "matrix_graph(np.array([[1, 0], [0, 1]]))\n",
        "\n",
        "plt.xlim(-1.5, 1)\n",
        "plt.ylim(-1.5, 1)\n",
        "plt.show()\n",
        "\n",
        "print(\"First V Rotation: \")\n",
        "matrix_graph(V)\n",
        "\n",
        "plt.xlim(-1.5, 1)\n",
        "plt.ylim(-1.5, 1)\n",
        "plt.show()\n",
        "\n",
        "print(\"Scale (D): \")\n",
        "matrix_graph(np.diag(D).dot(V))\n",
        "\n",
        "plt.xlim(-9, 9)\n",
        "plt.ylim(-9, 9)\n",
        "plt.show()\n",
        "\n",
        "print(\"Second Rotation (U): \")\n",
        "matrix_graph(U.dot(np.diag(D).dot(V)))\n",
        "\n",
        "plt.xlim(-8, 9)\n",
        "plt.ylim(-8, 9)\n",
        "plt.show()"
      ],
      "execution_count": 101,
      "outputs": [
        {
          "output_type": "stream",
          "text": [
            "Unitary Circle: \n"
          ],
          "name": "stdout"
        },
        {
          "output_type": "display_data",
          "data": {
            "image/png": "[encoded data removed]",
            "text/plain": [
              "<Figure size 432x288 with 1 Axes>"
            ]
          },
          "metadata": {
            "tags": [],
            "needs_background": "light"
          }
        },
        {
          "output_type": "stream",
          "text": [
            "First V Rotation: \n"
          ],
          "name": "stdout"
        },
        {
          "output_type": "display_data",
          "data": {
            "image/png": "[encoded data removed]",
            "text/plain": [
              "<Figure size 432x288 with 1 Axes>"
            ]
          },
          "metadata": {
            "tags": [],
            "needs_background": "light"
          }
        },
        {
          "output_type": "stream",
          "text": [
            "Scale (D): \n"
          ],
          "name": "stdout"
        },
        {
          "output_type": "display_data",
          "data": {
            "image/png": "[encoded data removed]",
            "text/plain": [
              "<Figure size 432x288 with 1 Axes>"
            ]
          },
          "metadata": {
            "tags": [],
            "needs_background": "light"
          }
        },
        {
          "output_type": "stream",
          "text": [
            "Second Rotation (U): \n"
          ],
          "name": "stdout"
        },
        {
          "output_type": "display_data",
          "data": {
            "image/png": "[encoded data removed]",
            "text/plain": [
              "<Figure size 432x288 with 1 Axes>"
            ]
          },
          "metadata": {
            "tags": [],
            "needs_background": "light"
          }
        }
      ]
    },
    {
      "cell_type": "markdown",
      "metadata": {
        "id": "DdSl0xd-wSOR"
      },
      "source": [
        "# Interpratation of Singular Values"
      ]
    },
    {
      "cell_type": "code",
      "metadata": {
        "id": "SYQBcPGgvwpL",
        "outputId": "17234c4b-0376-456f-fd36-f136d971fd53",
        "colab": {
          "base_uri": "https://localhost:8080/",
          "height": 51
        }
      },
      "source": [
        "A = np.array([[3, 7], [5, 2]])\n",
        "print(A)"
      ],
      "execution_count": 102,
      "outputs": [
        {
          "output_type": "stream",
          "text": [
            "[[3 7]\n",
            " [5 2]]\n"
          ],
          "name": "stdout"
        }
      ]
    },
    {
      "cell_type": "code",
      "metadata": {
        "id": "FCPaIcB3wuiP",
        "outputId": "61a4a52a-d157-4a3d-cefc-13f591c664ce",
        "colab": {
          "base_uri": "https://localhost:8080/",
          "height": 51
        }
      },
      "source": [
        "U, D, V = np.linalg.svd(A)\n",
        "\n",
        "print(D[0])\n",
        "print(D[1])"
      ],
      "execution_count": 103,
      "outputs": [
        {
          "output_type": "stream",
          "text": [
            "8.7133796929634\n",
            "3.3282148858288965\n"
          ],
          "name": "stdout"
        }
      ]
    },
    {
      "cell_type": "code",
      "metadata": {
        "id": "EW14AsxAw2Ok",
        "outputId": "7903062b-aa74-4165-a2e0-05a90e6010d7",
        "colab": {
          "base_uri": "https://localhost:8080/",
          "height": 102
        }
      },
      "source": [
        "u1 = [D[0]*U[0,0], D[0]*U[0,1]]\n",
        "v1 = [D[1]*U[1,0], D[1]*U[1,1]]\n",
        "\n",
        "print([A[0,0], A[1,0]])\n",
        "print(u1)\n",
        "print()\n",
        "print([A[0,1], A[1,1]])\n",
        "print(v1)"
      ],
      "execution_count": 104,
      "outputs": [
        {
          "output_type": "stream",
          "text": [
            "[3, 5]\n",
            "[-7.4120434792975685, -4.580894796297923]\n",
            "\n",
            "[7, 2]\n",
            "[-1.7497461132982814, 2.8311486829996433]\n"
          ],
          "name": "stdout"
        }
      ]
    },
    {
      "cell_type": "code",
      "metadata": {
        "id": "AxSE3QCwxWQG",
        "outputId": "b6c7777a-1a71-4ca5-f22d-3bad255caae8",
        "colab": {
          "base_uri": "https://localhost:8080/",
          "height": 269
        }
      },
      "source": [
        "matrix_graph(A)\n",
        "vector_graph([u1, v1], cols = [\"red\", \"blue\"])\n",
        "\n",
        "plt.text(3, 5, r\"$u_1$\", size = 18)\n",
        "plt.text(7, 2, r\"$v_1$\", size = 18)\n",
        "\n",
        "plt.text(-5, -4, r\"$D(u_1)$\", size = 18)\n",
        "plt.text(-4, 1, r\"$D(v_1)$\", size = 18)\n",
        "\n",
        "plt.xlim(-8, 8)\n",
        "plt.ylim(-8, 8)\n",
        "plt.show()"
      ],
      "execution_count": 106,
      "outputs": [
        {
          "output_type": "display_data",
          "data": {
            "image/png": "[encoded data removed]",
            "text/plain": [
              "<Figure size 432x288 with 1 Axes>"
            ]
          },
          "metadata": {
            "tags": [],
            "needs_background": "light"
          }
        }
      ]
    },
    {
      "cell_type": "code",
      "metadata": {
        "id": "EsyrsNDGxzG2"
      },
      "source": [
        ""
      ],
      "execution_count": null,
      "outputs": []
    }
  ]
}